{
 "cells": [
  {
   "cell_type": "markdown",
   "metadata": {},
   "source": [
    "# Regresión Lineal\n",
    "\n",
    "El *análisis de la regresión* es un proceso estadístico para estimar las relaciones entre variables. Se puede implementar para estudiar la relación entre una variable dependiente (o variable respuesta) $y$ y una o más variables independientes (variables regresoras o predictoras) $x_1,x_2,...,x_n$ a través de una ecuación lineal. \n",
    "\n",
    "En este rubro, se distinguen dos modalidades:"
   ]
  },
  {
   "cell_type": "markdown",
   "metadata": {},
   "source": [
    "1) Regresión Lineal Simple:\n",
    " * Cuando se emplean únicamente dos variables: $x$, $y$\n",
    " \n",
    "2) Regresión Lineal Multiple:\n",
    " * Cuando se tienen más de dos variables: $x_1,x_2,...,x_n,y$\n",
    " \n",
    "La ecuación de regresión lineal es:\n",
    "\n",
    "$$ \\widehat{y}  = \\theta_0 + \\theta_1 x_1 + \\theta_2 x_2 + ... + \\theta_n x_n + \\epsilon$$\n",
    "\n",
    "donde:\n",
    "* $\\widehat{y}$: variable dependiente o respuesta.\n",
    "* $n$: número de variables predictoras.\n",
    "* $x_i$: *i-ésima* variable independiente o predictora.\n",
    "* $\\theta_j$: coeficientes de regresión ($\\theta_0$ corresponde al intercepto y $\\theta_1, \\theta_2,...,\\theta_n$ corresponden a los pesos asociados a las variables predictoras).\n",
    "* $\\epsilon$: error. "
   ]
  },
  {
   "cell_type": "markdown",
   "metadata": {},
   "source": [
    "El error debe tener una distribución normal de media $0$ y varianza $\\sigma^2$. Si la varianza es pequeña quiere decir que los datos están muy cerca de la recta. \n",
    "\n",
    "La siguiente gráfica ejemplifica lo anterior:\n",
    "\n",
    "<img src='Imagenes/error_lr.PNG'>\n",
    "\n",
    "Como $y$ es la combinación lineal de variables independientes más la variable aleatoria normal, se tiene que $y$ también debe seguir una **distribución normal**."
   ]
  },
  {
   "cell_type": "markdown",
   "metadata": {},
   "source": [
    "En la regresión lineal simple, los coeficientes de regresión y el error son desconocidos. Si tenemos un número $n$ de observaciones $(x_1,y_1),...(x_n,y_n)$ podemos trazar una infinidad de rectas que se asemejen a la distribución de las observaciones, sin embargo, LA recta que mejor se ajusta a los datos, se encuentra minimizando la suma de los errores cuadráticos (método de mínimos cuadrados):\n",
    "\n",
    "$$RSS(\\theta) = \\sum_{i=1}^n (y_i - \\widehat{y})^2 = \\sum_{i=1}^n \\widehat{\\epsilon}_i^2 = \\sum_{i=1}^n (y_i - \\widehat{\\theta}_0 - \\widehat{\\theta}_1 x_i )^2  $$"
   ]
  },
  {
   "cell_type": "markdown",
   "metadata": {},
   "source": [
    "Para minimizar, primero derivamos aplicando la regla de la cadena a la expresión de los residuos:\n",
    "\n",
    "$$\\frac{\\partial RSS(\\theta)}{\\partial \\theta_0} = -2 \\sum_{i=1}^n (y_i - \\widehat{\\theta}_0 - \\widehat{\\theta}_1 x_i ) $$\n",
    "\n",
    "$$\\frac{\\partial RSS(\\theta)}{\\partial \\theta_1} = -2 \\sum_{i=1}^n (y_i - \\widehat{\\theta}_0 - \\widehat{\\theta}_1 x_i )x_i $$\n",
    "\n",
    "Igualando estas expresiones a cero:\n",
    "\n",
    "$$\\sum_{i=1}^n (y_i - \\widehat{\\theta}_0 - \\widehat{\\theta}_1 x_i ) = 0$$\n",
    "\n",
    "$$\\sum_{i=1}^n (y_i - \\widehat{\\theta}_0 - \\widehat{\\theta}_1 x_i )x_i=0$$"
   ]
  },
  {
   "cell_type": "markdown",
   "metadata": {},
   "source": [
    "Estas ecuaciones se conocen como ecuaciones normales y las podemos expresar de la siguiente forma:\n",
    "\n",
    "$$\\sum_{i=1}^n y_i = n \\widehat{\\theta}_0 + \\widehat{\\theta}_1 \\sum_{i=1}^n x_i$$\n",
    "\n",
    "$$\\sum_{i=1}^n x_i y_i = \\widehat{\\theta}_0 \\sum_{i=1}^n x_i + \\widehat{\\theta}_1 \\sum_{i=1}^n x_i^2  $$"
   ]
  },
  {
   "cell_type": "markdown",
   "metadata": {},
   "source": [
    "Cuya solución es:\n",
    "\n",
    "$$\\widehat{\\theta}_0= \\bar{y} - \\widehat{\\theta}_1 \\bar{x}$$\n",
    "\n",
    "$$\\widehat{\\theta}_1=\\frac{\\sum_{i=1}^n (y_i-\\bar{y})(x_i - \\bar{x})}{\\sum_{i=1}^n (x_i - \\bar{x})^2}$$\n",
    "\n",
    "Donde: \n",
    "\n",
    "$\\bar{x} = \\frac{1}{n}\\sum_{i=1}^n x_i$ \n",
    "\n",
    "\n",
    "$\\bar{y} = \\frac{1}{n}\\sum_{i=1}^n y_i$  \n",
    "\n",
    "Con estos resultados se ajustará la ecuación lineal a su error cuadrático mínimo."
   ]
  },
  {
   "cell_type": "markdown",
   "metadata": {},
   "source": [
    "## Supuestos de la Regresión Lineal\n",
    "\n",
    "Supuestos a cumplirse para que una regresión lineal realice predicciones confiables:\n",
    "\n",
    "* **Linealidad**: la relación entre las variables de entrada y salida debe ser lineal, es decir, expresamos el valor esperado de la variable de salida $y$ como combinación lineal de las variables de entrada $x_1,x_2,...,x_n$. $$E(y)=\\theta_0 + \\theta_1 x_1 + ... + \\theta_n x_n$$\n",
    "\n",
    "* **Ausencia Multicolinealidad**: no existe multicolinealidad en las variables, es decir, ninguna de las variables de entrada $x_1,x_2,...,x_n$ están altamente correlacionada positiva o negativamente entre ellas, en caso contrario, el modelo no podrá determinar a qué variable darle más peso en sus respectivos parámetros.\n",
    "\n",
    "* **Normalidad**: la variable de salida $y$ es la combinación lineal de las variables $x_i$ más un cierto  error, siendo este una distribución normal. En consecuencia, es mejor tener tus variables independientes como una distribución normal.\n",
    "\n",
    "\n",
    "* **Homocedasticidad**: la varianza del error condicional a las variables explicativas es constante a lo largo de las observaciones.\n",
    "\n",
    "<img src='Imagenes/homocedasticidad.PNG'>"
   ]
  },
  {
   "cell_type": "markdown",
   "metadata": {},
   "source": [
    "Así, en el caso concreto de que alguna de nuestras variables predictoras no cumplan con el supuesto de normalidad, se sugiere aplicar una trasnformación de variable, por ejemplo, una transformación logarítmica o de raíz cuadrada.\n",
    "\n",
    "<img src = \"Imagenes\\reg1.jpg\">"
   ]
  },
  {
   "cell_type": "markdown",
   "metadata": {},
   "source": [
    "## Gradiente en descenso\n",
    "\n",
    "La función de costo es una función que mide qué tan malo fue el *performance* del modelo comparando el valor real $y_i$ con el valor predicho $\\widehat{y_i}$.\n",
    "\n",
    "El gradiente en descenso es un algorítmo de optimización genérico, capaz de encontrar soluciones óptimas a una amplia gama de problemas. La idea detrás de él es ajustar los parámetros de manera iterativa para minimizar la función de costo asociada al algoritmo de *Machine Learning* implementado."
   ]
  },
  {
   "cell_type": "markdown",
   "metadata": {},
   "source": [
    "### Cabe hacernos la pregunta: si ya contamos con el método de mínimos cuadrados para minimizar la función de costo, ¿por qué recurrir al gradiente en descenso?\n",
    "\n",
    "En *Machine Learning* se trabaja con *datasets* de múltiples variables, los algoritmos buscan la optimización de un número enorme de parámetros y dichos sistemas de ecuaciones no sólo son computacionalmente costosos, sino que, además, pueden no tener solución analítica. El método del gradiente aproxima soluciones con un costo computacional bajo."
   ]
  },
  {
   "cell_type": "markdown",
   "metadata": {},
   "source": [
    "Visualicemos un ejemplo rebuscado para entender cómo funciona el gradiente en descenso.\n",
    "\n",
    "<img src = \"Imagenes\\reg2.jpg\" width = 500>\n",
    "\n",
    "Supongamos que estás perdido en las montañas de una isla y hay tal cantidad de niebla que no logras ver más allá de un metro, lo único que puedes sentir es la pendiente del suelo debajo tus pies. Una buena estrategia para llegar rápidamente al fondo del valle es bajar en dirección a la ladera más empinada. Esto es exactamente lo que hace **gradiente en descenso**, mide la pendiente local de la función de error con respecto al parámetro $\\theta$, y va en la dirección de la pendiente descendente. Una vez que estás a nivel del mar, ¡has alcanzado el mínimo!\n",
    "\n",
    "<img src='Imagenes/gradient_descent.PNG'>"
   ]
  },
  {
   "cell_type": "markdown",
   "metadata": {},
   "source": [
    "Matemáticamente el algoritmo funciona de la siguiente manera:\n",
    "\n",
    "* Escoge aleatoriamente un punto inicial $X^0$\n",
    "* Calcula la pendiente (gradiente en caso de tener más de dos dimensiones)\n",
    "* Se desplaza al siguiente punto de iteración con la relación: $X^1 = X^0 - pendiente$\n",
    "* Repite hasta converger al nivel del mar (mínimo) $X^{k+1}=X^k - pendiente$\n",
    "\n",
    "Lo que asegura la convergencia de este método es que, dado que la pendiente se hace más pequeña conforme nos acercamos al mínimo, el tamaño de los pasos poco a poco se van acercando a cero, pero qué pasa si la pendiente en el punto en el que estemos parados es demasiado grande?\n",
    "\n",
    "<img src=\"Imagenes/g3.JPG\">"
   ]
  },
  {
   "cell_type": "markdown",
   "metadata": {},
   "source": [
    "En este caso, los pasos que tomamos son demasiado grandes provocando que el método, en lugar de converger, diverja.\n",
    "\n",
    "Podemos arreglar este problema multiplicando la pendiente por un *Learning Rate* menor a 1 que reduzca el valor de la pendiente, esto provocará que nuestro método tarde más en converger, pero evitará que diverja:\n",
    "\n",
    "$$ X^{k+1} = X^k - \\alpha (pendiente)$$ \n"
   ]
  },
  {
   "cell_type": "markdown",
   "metadata": {},
   "source": [
    "Caso en que la función no sea convexa y tenga muchos mínimos locales:\n",
    "\n",
    "<img src=\"Imagenes/g5.JPG\">\n",
    "\n",
    "Se escoge de forma aleatoria diferentes posiciones iniciales, después se corre el algoritmo con cada una de ellas y por último se escoge la posición final que haya alcanzado el mínimo global.\n",
    "\n",
    "<img src=\"Imagenes/g6.JPG\">"
   ]
  },
  {
   "cell_type": "markdown",
   "metadata": {},
   "source": [
    "### Implementación del Gradiente en Descenso en Regresión Lineal\n",
    "\n",
    "Vamos a minimizar la función de costo error cuadrático medio (MSE por sus siglas en inglés) utilizando el gradiente en descenso. Denotémosla por $J$.\n",
    "\n",
    "$$J(\\theta)= MSE$$\n",
    "\n",
    "Donde $MSE = \\frac{1}{n} \\sum_{i=1}^n (y_i - \\widehat{y})^2$, $y_i$ es el valor real y $\\widehat{y}$ es la predicción de una regresión lineal.\n",
    "\n",
    "\n",
    "Derivando respecto a $\\theta$:\n",
    "\n",
    "$$\\frac{\\partial}{\\partial \\theta} J(\\theta) =  \\frac{1}{n} \\frac{\\partial}{\\partial \\theta} \\sum_{i=1}^n (y_i - \\widehat{y})^2 $$\n",
    "\n",
    "$$\\frac{\\partial}{\\partial \\theta} J(\\theta) = \\frac{1}{n} \\frac{\\partial}{\\partial \\theta} \\sum_{i=1}^n (y_i - \\widehat{\\theta}_0 - \\widehat{\\theta}_1 x_i )^2$$\n",
    "\n",
    "--------\n",
    "Derivando específicamente respecto a $\\theta_0$ y $\\theta_1$ \n",
    "\n",
    "$$\\frac{\\partial}{\\partial \\theta_0} J(\\theta_0) = -\\frac{2}{n} \\sum_{i=1}^n (y_i - \\widehat{\\theta}_0 - \\widehat{\\theta}_1 x_i ) $$\n",
    "\n",
    "$$\\frac{\\partial}{\\partial \\theta_1} J(\\theta_1) = -\\frac{2}{n} \\sum_{i=1}^n (y_i - \\widehat{\\theta}_0 - \\widehat{\\theta}_1 x_i )x_i$$\n",
    "\n",
    "Una vez calculadas las derivadas, las insertamos en la relación de recurrencia del gradiente en descenso para completar el método:\n",
    "\n",
    "$$\\theta_0^{k+1} = \\theta_0^{k} - \\alpha \\frac{\\partial}{\\partial \\theta_0}|_{\\theta_0^{k}}$$\n",
    "\n",
    "$$\\theta_1^{k+1} = \\theta_1^{k} - \\alpha \\frac{\\partial}{\\partial \\theta_1}|_{\\theta_1^{k}}$$\n"
   ]
  },
  {
   "cell_type": "markdown",
   "metadata": {},
   "source": [
    "## Regularización de Modelos Lineales\n",
    "\n",
    "En *Machine Learning*, el proceso de aprendizaje consiste en encontrar los coeficientes que minimizan una función de costo, si además se añade una penalización a dicha función nos encontramos con los métodos de regularización. Estos métodos producen modelos más simples que generalizan mejor el problema a resolver. \n",
    "\n",
    "Como vimos anteriormente, para el gradiente en descenso usamos el error cuadrático medio como función de costo. Para incorporar la regularización al modelo se agrega un término adicional que penaliza la complejidad del modelo:\n",
    "\n",
    "$$J(\\theta)= MSE(\\theta) + \\alpha C$$\n",
    "\n",
    "Donde $C$ es la medida de complejidad y dependiendo de cómo la midamos, tendremos distintos tipos de regularización. \n",
    "\n",
    "Las regularizaciones que se revisarán a continuación serán **Lasso** y **Ridge**."
   ]
  },
  {
   "cell_type": "markdown",
   "metadata": {},
   "source": [
    "### Regularización Lasso (Least Absolute Shrinkage and Selection Operator)\n",
    "\n",
    "En la regularización Lasso, también conocida como $L_1$, la complejidad $C$ se mide como el valor absoluto de los coeficientes del modelo. Se puede aplicar para modelos de regresión lineal, regresión logística, redes neuronales, entre otros.\n",
    "\n",
    "$$ C = \\sum_{i=1}^n \\lvert \\theta_i \\rvert$$ \n",
    "\n",
    "Dado lo anterior, la función de costo para la Regresión Lasso se expresa como:\n",
    "\n",
    "$$J(\\theta)= MSE(\\theta) + \\alpha \\sum_{i=1}^n \\lvert \\theta_i\\rvert$$"
   ]
  },
  {
   "cell_type": "markdown",
   "metadata": {},
   "source": [
    "**Lasso coordinate descent**\n",
    "\n",
    "$$\\frac{\\partial}{\\partial \\theta}J(\\theta)= \\frac{\\partial}{\\partial \\theta} MSE(\\theta) + \\alpha \\frac{\\partial}{\\partial \\theta}\\sum_{i=1}^n \\lvert \\theta_i\\rvert$$\n",
    "\n",
    "Esta función de costo no es diferenciable en $\\theta_i = 0$ (para $i=1,2,...,n$) por lo que se debe recurrir a subgradientes utilizando método de coordenadas descendetes.\n",
    "\n",
    "**Subgradiente de una función**\n",
    "\n",
    "$g$ es subgradiente de $f$ (no necesariamente convexo) en x si:\n",
    "\n",
    "$$f(y) \\geq f(x) + g^T(y-x)$$\n",
    "\n",
    "para toda $y$\n",
    "\n",
    "<img src=\"Imagenes/subgradiente.PNG\">\n",
    "\n",
    "$g_2$ y $g_3$ son subgradientes en $x_2$, $g_1$ es subgradiente en $x_1$\n",
    "\n",
    "Al conjunto de todos los subgradientes de $f$ en un punto $x$ se le conoce como **subdiferencial** de $f$ en $x$ y se denota como $\\partial f(x)$ \n",
    "\n",
    "Tomando el ejemplo de la función $f(x)= \\lvert x \\rvert$\n",
    "\n",
    "<img src=\"Imagenes/valor_absoluto.PNG\">"
   ]
  },
  {
   "cell_type": "markdown",
   "metadata": {},
   "source": [
    "Entonces $$\\partial_{\\theta_j} \\alpha \\sum_{j=0}^n \\lvert \\theta_j\\rvert = \\partial_{\\theta_j} \\alpha \\lvert \\theta_j\\rvert = \\left\\lbrace\n",
    "\\begin{array}{ll}\n",
    "-1 & si & \\theta_j<0\\\\\n",
    "0 & si & \\theta_j=0\\\\\n",
    "+1 & si & \\theta_j>0\n",
    "\\end{array}\n",
    "\\right.$$\n",
    "\n",
    "Por lo tanto la función de costo para la regresión Lasso tiene el valor de:\n",
    "\n",
    "$$g(\\theta,J) = \\partial_{\\theta_j} MSE + \\left\\lbrace\n",
    "\\begin{array}{ll}\n",
    "-\\alpha & si & \\theta_j<0\\\\\n",
    "0 & si & \\theta_j=0\\\\\n",
    "+\\alpha & si & \\theta_j>0\n",
    "\\end{array}\n",
    "\\right. $$"
   ]
  },
  {
   "cell_type": "markdown",
   "metadata": {},
   "source": [
    "Una característica importante de la regresión Lasso es que tiende a eliminar los pesos de las variables de entrada $x_i$ menos importantes, es decir les asigna un valor de cero. Esto puede ser útil para determinar qué variables de entrada son relevantes y para obtener un modelo que generalice mejor el problema. La Regresión Lasso, como cualquier otra regresión, funciona mejor cuando las variables $x_i$ no están muy correlacionadas entre sí."
   ]
  },
  {
   "cell_type": "markdown",
   "metadata": {},
   "source": [
    "## Regularización Ridge \n",
    "\n",
    "La regularización Ridge, también llamada regularización de Tikhonov o $L_2$, tiene complejidad $C$ igual a la suma del cuadrado de los coeficientes del modelo. Esto obliga al algoritmo de aprendizaje a no sólo a ajustarse a los datos, sino también a mantener el modelo con coeficientes pequeños.\n",
    "\n",
    "Al igual que la regularización de Lasso, Ridge se puede aplicar a varias técnicas en *Machine Learning*. Matemáticamente, el parámetro $C$ equivale a:\n",
    "\n",
    "$$C = \\sum_{i=1}^n  \\theta_i^2$$\n",
    "\n",
    "Por lo tanto, la función de costo para la regresión Ridge se expresa como:\n",
    "\n",
    "$$J(\\theta)= MSE(\\theta) + \\alpha \\sum_{i=1}^n  \\theta_i^2$$\n",
    "\n",
    "Derivando la función $J(\\theta)$:\n",
    "\n",
    "$$\\frac{\\partial}{\\partial \\theta} J(\\theta)= \\frac{\\partial}{\\partial \\theta} MSE(\\theta) + \\alpha \\frac{\\partial}{\\partial \\theta} \\sum_{i=1}^n  \\theta_i^2  $$"
   ]
  },
  {
   "cell_type": "markdown",
   "metadata": {},
   "source": [
    "Ya tenemos la derivada del $MSE(\\theta)$ de la regresión lineal con el gradiente en descenso, por lo que sólo restaría derivar la parte de la suma al cuadrado de los coeficientes:\n",
    "\n",
    "$$\\frac{\\partial}{\\partial \\theta} \\sum_{i=1}^n  \\theta_i^2 = 2 \\sum_{i=1}^n \\theta_i $$\n",
    "\n",
    "Por lo tanto:\n",
    "\n",
    "$$\\frac{\\partial}{\\partial \\theta} J(\\theta)= \\frac{\\partial}{\\partial \\theta} MSE(\\theta) + 2 \\alpha \\sum_{i=1}^n \\theta_i $$\n",
    "\n",
    "Es pertinente usar Ridge cuando las variables de entrada $x_i$ están correlacionadas entre sí. La naturaleza de Ridge disminuye el valor de los coeficientes lo que minimiza el efecto de la correlación entre las variables $x_i$, haciendo que el modelo generalice de una mejor manera."
   ]
  },
  {
   "cell_type": "markdown",
   "metadata": {},
   "source": [
    "# Análisis de Datos\n",
    "\n",
    "Utilizaremos un *dataframe* de viajes en avión para predecir el retraso en la llegada de los vuelos.\n",
    "\n",
    "Acorde con la teoría revisada, seguiremos la siguiente metodología:\n",
    "\n",
    "* Análisis exploratorio de las variables elegidas para el modelo.\n",
    "* Justificación de una distribución normal a las variables\n",
    "* Eliminiación de datos atípicos\n",
    "* Implementación del modelo (Lasso)"
   ]
  },
  {
   "cell_type": "code",
   "execution_count": 68,
   "metadata": {},
   "outputs": [],
   "source": [
    "# Bibliotecas de análisis de datos\n",
    "import pandas as pd\n",
    "\n",
    "# Biblioteca para operaciones matemáticas\n",
    "import numpy as np\n",
    "\n",
    "# Biblioteca de graficación\n",
    "import matplotlib.pyplot as plt\n",
    "import seaborn as sns\n",
    "\n",
    "# Preporcesamiento\n",
    "from sklearn.model_selection import train_test_split\n",
    "\n",
    "# Evaluación\n",
    "from sklearn.metrics import (r2_score, mean_squared_error, mean_absolute_error)\n",
    "\n",
    "# Modelo\n",
    "from sklearn.linear_model import LinearRegression\n",
    "from sklearn.linear_model import LassoCV\n",
    "from sklearn.feature_selection import RFECV\n",
    "\n",
    "# Estilo de Gráficas\n",
    "plt.style.use('tableau-colorblind10')\n",
    "\n",
    "# Ignorar advertencias \n",
    "import warnings\n",
    "warnings.filterwarnings(\"ignore\")"
   ]
  },
  {
   "cell_type": "markdown",
   "metadata": {},
   "source": [
    "Lectura del csv y primer acercamiento:"
   ]
  },
  {
   "cell_type": "code",
   "execution_count": 21,
   "metadata": {},
   "outputs": [
    {
     "name": "stdout",
     "output_type": "stream",
     "text": [
      "<class 'pandas.core.frame.DataFrame'>\n",
      "RangeIndex: 571401 entries, 0 to 571400\n",
      "Data columns (total 12 columns):\n",
      " #   Column               Non-Null Count   Dtype  \n",
      "---  ------               --------------   -----  \n",
      " 0   year                 571401 non-null  int64  \n",
      " 1   month                571401 non-null  int64  \n",
      " 2   day                  571401 non-null  int64  \n",
      " 3   day_of_week          571401 non-null  int64  \n",
      " 4   airline              571401 non-null  object \n",
      " 5   origin_airport       571401 non-null  object \n",
      " 6   destination_airport  571401 non-null  object \n",
      " 7   departure_time       571401 non-null  float64\n",
      " 8   departure_delay      571401 non-null  float64\n",
      " 9   air_time             571401 non-null  float64\n",
      " 10  arrival_time         571401 non-null  float64\n",
      " 11  arrival_delay        571401 non-null  float64\n",
      "dtypes: float64(5), int64(4), object(3)\n",
      "memory usage: 52.3+ MB\n"
     ]
    }
   ],
   "source": [
    "df = pd.read_csv('BBDD/flights_sample.csv')              \n",
    "df.drop(['Unnamed: 0'], axis=1, inplace=True)\n",
    "df.info()"
   ]
  },
  {
   "cell_type": "markdown",
   "metadata": {},
   "source": [
    "## Diccionario de datos\n",
    "\n",
    "Descripción de las variables:\n",
    "\n",
    "| Variable  | Definición  |\n",
    "|---|---|\n",
    "|**year**|Año|\n",
    "|**month**|Mes|\n",
    "|**day**|Día|\n",
    "|**day_of_week**|Día de la semana|\n",
    "|**airline**|Aereolínea|\n",
    "|**origin_airport**|Origen del vuelo|\n",
    "|**destination_airport**|Destino del vuelo|\n",
    "|**departure_time**|Hora de salida|\n",
    "|**departure_delay**|Retraso de salida|\n",
    "|**air_time**|Tiempo de vuelo|\n",
    "|**distance**|Distancia|\n",
    "|**arrival_time**|Hora de llegada|\n",
    "|**arrival_delay**|Retraso de llegada|"
   ]
  },
  {
   "cell_type": "markdown",
   "metadata": {},
   "source": [
    "## Comenzamos con un histograma de las variables del *dataframe*:"
   ]
  },
  {
   "cell_type": "code",
   "execution_count": 28,
   "metadata": {},
   "outputs": [
    {
     "data": {
      "image/png": "[encoded data removed]",
      "text/plain": [
       "<Figure size 1080x720 with 9 Axes>"
      ]
     },
     "metadata": {
      "needs_background": "light"
     },
     "output_type": "display_data"
    }
   ],
   "source": [
    "df.hist(bins=100, figsize=(15,10), grid=False)  # Histogramas del conjunto de datos\n",
    "plt.tight_layout();                # Ajusta automaticamente el padding"
   ]
  },
  {
   "cell_type": "markdown",
   "metadata": {},
   "source": [
    "## Revisamos la distribución de la variable que queremos predecir:"
   ]
  },
  {
   "cell_type": "code",
   "execution_count": 26,
   "metadata": {},
   "outputs": [
    {
     "data": {
      "image/png": "[encoded data removed]",
      "text/plain": [
       "<Figure size 1080x720 with 1 Axes>"
      ]
     },
     "metadata": {
      "needs_background": "light"
     },
     "output_type": "display_data"
    }
   ],
   "source": [
    "df.arrival_delay.hist(bins=100, figsize=(15,10))\n",
    "#Definimos los límites de la gráfica\n",
    "plt.xlim(-df.arrival_delay.quantile(0.99) , df.arrival_delay.quantile(0.998))\n",
    "plt.title('Los vuelos tienden a no retrasarse', fontsize = 20)\n",
    "plt.xlabel('Retraso en minutos', fontsize = 20)\n",
    "plt.ylabel('Frecuencia', fontsize = 20)\n",
    "plt.xticks(fontsize = 14)\n",
    "plt.yticks(fontsize = 14)\n",
    "plt.grid(False);"
   ]
  },
  {
   "cell_type": "markdown",
   "metadata": {},
   "source": [
    "Notemos que la variable a predecir tiene una distribución \"normal\".\n",
    "\n",
    "Eliminamos los valores atípicos del retraso de llegada: "
   ]
  },
  {
   "cell_type": "code",
   "execution_count": 24,
   "metadata": {},
   "outputs": [],
   "source": [
    "df = df.drop(df[(df['arrival_delay']> df.arrival_delay.quantile(0.998))].index).reset_index(drop = True)"
   ]
  },
  {
   "cell_type": "code",
   "execution_count": 29,
   "metadata": {},
   "outputs": [
    {
     "data": {
      "image/png": "[encoded data removed]",
      "text/plain": [
       "<Figure size 1080x720 with 1 Axes>"
      ]
     },
     "metadata": {
      "needs_background": "light"
     },
     "output_type": "display_data"
    }
   ],
   "source": [
    "df.arrival_delay.hist(bins=100, figsize=(15,10))\n",
    "plt.title('Los vuelos tienden a no retrasarse', fontsize = 20)\n",
    "plt.xlabel('Retraso en minutos', fontsize = 20)\n",
    "plt.ylabel('Frecuencia', fontsize = 20)\n",
    "plt.xticks(fontsize = 14)\n",
    "plt.yticks(fontsize = 14)\n",
    "plt.grid(False);"
   ]
  },
  {
   "cell_type": "markdown",
   "metadata": {},
   "source": [
    "En este caso, nos interesa saber si presentará alguna impuntualidad en su llegada, entiendase por impuntal, llegar antes o después de la hora estipulada."
   ]
  },
  {
   "cell_type": "markdown",
   "metadata": {},
   "source": [
    "## Generemos un par de variables para ayudarle al modelo"
   ]
  },
  {
   "cell_type": "markdown",
   "metadata": {},
   "source": [
    "Categorizar las variables month, day y day of week:"
   ]
  },
  {
   "cell_type": "code",
   "execution_count": 30,
   "metadata": {},
   "outputs": [],
   "source": [
    "df[['month','day','day_of_week']] = df[['month',\n",
    "                                        'day',\n",
    "                                        'day_of_week']].astype('category')"
   ]
  },
  {
   "cell_type": "markdown",
   "metadata": {},
   "source": [
    "Ponemos en formato hora la hora de salida (800---->0800):"
   ]
  },
  {
   "cell_type": "code",
   "execution_count": 31,
   "metadata": {},
   "outputs": [],
   "source": [
    "df['departure_time'] = df['departure_time'].astype(str).str[:-2].str.pad(width=4,\n",
    "                                                                         fillchar='0')"
   ]
  },
  {
   "cell_type": "markdown",
   "metadata": {},
   "source": [
    "Obtenemos la hora de salida y acomodamos los minutos para generar un rango:"
   ]
  },
  {
   "cell_type": "code",
   "execution_count": 32,
   "metadata": {},
   "outputs": [],
   "source": [
    "df['hora_salida'] = df['departure_time'].str[:2]\n",
    "df['minuto_salida'] = df['departure_time'].str[2:].astype(int)"
   ]
  },
  {
   "cell_type": "markdown",
   "metadata": {},
   "source": [
    "Creamos los rangos de minutos:"
   ]
  },
  {
   "cell_type": "code",
   "execution_count": 33,
   "metadata": {},
   "outputs": [],
   "source": [
    "labels = [\"{0} - {1}\".format(i, i+9) for i in range(0,60,10)]\n",
    "df[\"minuto_agrupada\"] = pd.cut(df.minuto_salida.values, range(0,61,10),\n",
    "                               right=False, labels=labels)"
   ]
  },
  {
   "cell_type": "markdown",
   "metadata": {},
   "source": [
    "# ¿Qué estamos haciendo aquí?"
   ]
  },
  {
   "cell_type": "markdown",
   "metadata": {},
   "source": [
    "Delimitando el número de aeropuertos (tendríamos 8 mil dummies o más si no lo hiciéramos):"
   ]
  },
  {
   "cell_type": "code",
   "execution_count": 34,
   "metadata": {},
   "outputs": [],
   "source": [
    "# ind_airline = df['airline'].value_counts().head(10).index\n",
    "ind_origin_airport = df['origin_airport'].value_counts().head(150).index\n",
    "ind_destination_airport = df['destination_airport'].value_counts().head(150).index\n",
    "\n",
    "# df['airline_resumen'] = np.where(df['airline'].isin(ind_airline), \n",
    "#                                         df['airline'], 'other')\n",
    "df['origin_airport_resumen'] = np.where(df['origin_airport'].isin(ind_origin_airport), \n",
    "                                        df['origin_airport'], 'other')\n",
    "df['destination_airport_resumen'] = np.where(df['destination_airport'].isin(ind_destination_airport), \n",
    "                                        df['destination_airport'], 'other')"
   ]
  },
  {
   "cell_type": "markdown",
   "metadata": {},
   "source": [
    "Revisamos variables dummies:"
   ]
  },
  {
   "cell_type": "code",
   "execution_count": 35,
   "metadata": {},
   "outputs": [],
   "source": [
    "dummi_cols = ['month', 'day', 'day_of_week',#'airline_resumen',\n",
    "              'origin_airport_resumen','destination_airport_resumen',\n",
    "              'minuto_agrupada', 'hora_salida']"
   ]
  },
  {
   "cell_type": "markdown",
   "metadata": {},
   "source": [
    "Número de valores posibles para las variable dummies seleccionadas:"
   ]
  },
  {
   "cell_type": "code",
   "execution_count": 36,
   "metadata": {},
   "outputs": [
    {
     "name": "stdout",
     "output_type": "stream",
     "text": [
      "month 12\n",
      "day 31\n",
      "day_of_week 7\n",
      "origin_airport_resumen 151\n",
      "destination_airport_resumen 151\n",
      "minuto_agrupada 6\n",
      "hora_salida 25\n"
     ]
    }
   ],
   "source": [
    "for i in dummi_cols:\n",
    "    print(i, df[i].nunique())"
   ]
  },
  {
   "cell_type": "code",
   "execution_count": 37,
   "metadata": {},
   "outputs": [],
   "source": [
    "df_dummi = pd.get_dummies(df, columns = dummi_cols)"
   ]
  },
  {
   "cell_type": "code",
   "execution_count": 38,
   "metadata": {},
   "outputs": [
    {
     "data": {
      "text/plain": [
       "(570263, 393)"
      ]
     },
     "execution_count": 38,
     "metadata": {},
     "output_type": "execute_result"
    }
   ],
   "source": [
    "df_dummi.shape"
   ]
  },
  {
   "cell_type": "markdown",
   "metadata": {},
   "source": [
    "# Ejercicio grupal\n",
    "Realizar el AED, obtener:\n",
    " * Correlaciones\n",
    " * Relaciones entre varibles (Scatter plots)\n",
    " * Diferencias en distribuciones (BoxPlots)\n",
    " * Insertar-Algo-Más-Que-Se-Les-Ocurra-Aquí"
   ]
  },
  {
   "cell_type": "code",
   "execution_count": null,
   "metadata": {},
   "outputs": [],
   "source": []
  },
  {
   "cell_type": "code",
   "execution_count": null,
   "metadata": {},
   "outputs": [],
   "source": []
  },
  {
   "cell_type": "code",
   "execution_count": null,
   "metadata": {},
   "outputs": [],
   "source": []
  },
  {
   "cell_type": "code",
   "execution_count": null,
   "metadata": {},
   "outputs": [],
   "source": []
  },
  {
   "cell_type": "markdown",
   "metadata": {},
   "source": [
    "Guardamos la variable objetivo:"
   ]
  },
  {
   "cell_type": "code",
   "execution_count": 39,
   "metadata": {},
   "outputs": [],
   "source": [
    "ye = 'arrival_delay'"
   ]
  },
  {
   "cell_type": "markdown",
   "metadata": {},
   "source": [
    "Variables que NO vamos a considerar para el modelo:"
   ]
  },
  {
   "cell_type": "code",
   "execution_count": 40,
   "metadata": {},
   "outputs": [],
   "source": [
    "x_not = ['year',\n",
    " 'airline',\n",
    " 'origin_airport',\n",
    " 'destination_airport',\n",
    " 'departure_time',\n",
    " 'departure_delay',\n",
    " 'air_time',\n",
    " 'arrival_time',\n",
    " 'arrival_delay',\n",
    " 'minuto_salida']"
   ]
  },
  {
   "cell_type": "code",
   "execution_count": 41,
   "metadata": {},
   "outputs": [],
   "source": [
    "x_cols = [x for x in df_dummi.columns if x not in x_not]"
   ]
  },
  {
   "cell_type": "markdown",
   "metadata": {},
   "source": [
    "## Train Test Split"
   ]
  },
  {
   "cell_type": "code",
   "execution_count": 42,
   "metadata": {},
   "outputs": [],
   "source": [
    "X_train, X_test, y_train, y_test = train_test_split(df_dummi[x_cols], df_dummi.arrival_delay, \n",
    "                                                    test_size=0.2, random_state=69)"
   ]
  },
  {
   "cell_type": "markdown",
   "metadata": {},
   "source": [
    "## No olviden estandarizar variables"
   ]
  },
  {
   "cell_type": "code",
   "execution_count": 44,
   "metadata": {},
   "outputs": [],
   "source": [
    "X_train_std = (X_train - X_train.mean())/X_train.std()\n",
    "X_test_std = (X_test - X_test.mean())/X_test.std()"
   ]
  },
  {
   "cell_type": "code",
   "execution_count": 45,
   "metadata": {},
   "outputs": [
    {
     "data": {
      "text/plain": [
       "3.4745951443627088"
      ]
     },
     "execution_count": 45,
     "metadata": {},
     "output_type": "execute_result"
    }
   ],
   "source": [
    "y_test.mean()"
   ]
  },
  {
   "cell_type": "markdown",
   "metadata": {},
   "source": [
    "# Comparacion de modelos\n",
    "Al tener mismo conjunto de prueba, probemos con dos modelos una regresion multilineal y una regression Lasso"
   ]
  },
  {
   "cell_type": "code",
   "execution_count": 61,
   "metadata": {},
   "outputs": [
    {
     "data": {
      "text/plain": [
       "LinearRegression()"
      ]
     },
     "execution_count": 61,
     "metadata": {},
     "output_type": "execute_result"
    }
   ],
   "source": [
    "lr =  LinearRegression()\n",
    "lr.fit(X_train_std, y_train)"
   ]
  },
  {
   "cell_type": "code",
   "execution_count": 62,
   "metadata": {},
   "outputs": [
    {
     "data": {
      "text/plain": [
       "LassoCV(cv=3, n_jobs=-1)"
      ]
     },
     "execution_count": 62,
     "metadata": {},
     "output_type": "execute_result"
    }
   ],
   "source": [
    "lasso = LassoCV(cv=3, n_jobs=-1)\n",
    "lasso.fit(X_train_std, y_train)"
   ]
  },
  {
   "cell_type": "code",
   "execution_count": 63,
   "metadata": {},
   "outputs": [],
   "source": [
    "y_hat_lr = lr.predict(X_test_std)\n",
    "\n",
    "y_hat_lasso = lasso.predict(X_test_std)"
   ]
  },
  {
   "cell_type": "code",
   "execution_count": 64,
   "metadata": {},
   "outputs": [
    {
     "name": "stdout",
     "output_type": "stream",
     "text": [
      "Linear Regression r**2 -10575475892667781120.000\n",
      "Lasso r**2  0.071\n"
     ]
    }
   ],
   "source": [
    "print('Linear Regression r**2 % 1.3f' % r2_score(y_test,y_hat_lr))\n",
    "print('Lasso r**2 % 1.3f' % r2_score(y_test,y_hat_lasso))"
   ]
  },
  {
   "cell_type": "code",
   "execution_count": 65,
   "metadata": {},
   "outputs": [
    {
     "name": "stdout",
     "output_type": "stream",
     "text": [
      "Linear Regression RMSE  108182258870.556\n",
      "Lasso RMSE  32.068\n"
     ]
    }
   ],
   "source": [
    "print('Linear Regression RMSE % 1.3f' %mean_squared_error(y_test,y_hat_lr, squared=False))\n",
    "print('Lasso RMSE % 1.3f' %mean_squared_error(y_test,y_hat_lasso, squared=False))"
   ]
  },
  {
   "cell_type": "code",
   "execution_count": 81,
   "metadata": {},
   "outputs": [
    {
     "data": {
      "text/html": [
       "<div>\n",
       "<style scoped>\n",
       "    .dataframe tbody tr th:only-of-type {\n",
       "        vertical-align: middle;\n",
       "    }\n",
       "\n",
       "    .dataframe tbody tr th {\n",
       "        vertical-align: top;\n",
       "    }\n",
       "\n",
       "    .dataframe thead th {\n",
       "        text-align: right;\n",
       "    }\n",
       "</style>\n",
       "<table border=\"1\" class=\"dataframe\">\n",
       "  <thead>\n",
       "    <tr style=\"text-align: right;\">\n",
       "      <th></th>\n",
       "      <th>y_linear_reg</th>\n",
       "      <th>y_lasoo</th>\n",
       "      <th>y_real</th>\n",
       "    </tr>\n",
       "  </thead>\n",
       "  <tbody>\n",
       "    <tr>\n",
       "      <th>0</th>\n",
       "      <td>1.005388e+11</td>\n",
       "      <td>8.793912</td>\n",
       "      <td>35.0</td>\n",
       "    </tr>\n",
       "    <tr>\n",
       "      <th>1</th>\n",
       "      <td>4.202410e+10</td>\n",
       "      <td>8.134815</td>\n",
       "      <td>-1.0</td>\n",
       "    </tr>\n",
       "    <tr>\n",
       "      <th>2</th>\n",
       "      <td>-1.014608e+11</td>\n",
       "      <td>4.045844</td>\n",
       "      <td>-19.0</td>\n",
       "    </tr>\n",
       "    <tr>\n",
       "      <th>3</th>\n",
       "      <td>-9.144217e+10</td>\n",
       "      <td>0.144183</td>\n",
       "      <td>-9.0</td>\n",
       "    </tr>\n",
       "    <tr>\n",
       "      <th>4</th>\n",
       "      <td>-7.182987e+10</td>\n",
       "      <td>11.716398</td>\n",
       "      <td>-1.0</td>\n",
       "    </tr>\n",
       "    <tr>\n",
       "      <th>...</th>\n",
       "      <td>...</td>\n",
       "      <td>...</td>\n",
       "      <td>...</td>\n",
       "    </tr>\n",
       "    <tr>\n",
       "      <th>114048</th>\n",
       "      <td>-1.239500e+11</td>\n",
       "      <td>43.703686</td>\n",
       "      <td>-20.0</td>\n",
       "    </tr>\n",
       "    <tr>\n",
       "      <th>114049</th>\n",
       "      <td>-3.910727e+10</td>\n",
       "      <td>-2.713776</td>\n",
       "      <td>-5.0</td>\n",
       "    </tr>\n",
       "    <tr>\n",
       "      <th>114050</th>\n",
       "      <td>1.836825e+11</td>\n",
       "      <td>-1.857464</td>\n",
       "      <td>-8.0</td>\n",
       "    </tr>\n",
       "    <tr>\n",
       "      <th>114051</th>\n",
       "      <td>-1.654740e+10</td>\n",
       "      <td>2.497766</td>\n",
       "      <td>0.0</td>\n",
       "    </tr>\n",
       "    <tr>\n",
       "      <th>114052</th>\n",
       "      <td>-4.325601e+10</td>\n",
       "      <td>4.690979</td>\n",
       "      <td>8.0</td>\n",
       "    </tr>\n",
       "  </tbody>\n",
       "</table>\n",
       "<p>114053 rows × 3 columns</p>\n",
       "</div>"
      ],
      "text/plain": [
       "        y_linear_reg    y_lasoo  y_real\n",
       "0       1.005388e+11   8.793912    35.0\n",
       "1       4.202410e+10   8.134815    -1.0\n",
       "2      -1.014608e+11   4.045844   -19.0\n",
       "3      -9.144217e+10   0.144183    -9.0\n",
       "4      -7.182987e+10  11.716398    -1.0\n",
       "...              ...        ...     ...\n",
       "114048 -1.239500e+11  43.703686   -20.0\n",
       "114049 -3.910727e+10  -2.713776    -5.0\n",
       "114050  1.836825e+11  -1.857464    -8.0\n",
       "114051 -1.654740e+10   2.497766     0.0\n",
       "114052 -4.325601e+10   4.690979     8.0\n",
       "\n",
       "[114053 rows x 3 columns]"
      ]
     },
     "execution_count": 81,
     "metadata": {},
     "output_type": "execute_result"
    }
   ],
   "source": [
    "resultado = pd.DataFrame(np.array([y_hat_lr,y_hat_lasso]).T, columns=['y_linear_reg','y_lasoo'])\n",
    "resultado[\"y_real\"] = y_test.reset_index(drop=True)\n",
    "resultado"
   ]
  },
  {
   "cell_type": "markdown",
   "metadata": {},
   "source": [
    "__Los valores de la regresion lineal presentan multicolinealidad, es por ello que da valores gigantescos, sin embargo la regresion lasso permite ajustar mejor esos parametros.__"
   ]
  },
  {
   "cell_type": "markdown",
   "metadata": {},
   "source": [
    "## Entrenamiento\n",
    "\n",
    "El objetivo de esta sección es utilizar una regresión Lasso que seleccione las variables más relevantes para nuestro problema haciendo una especie de [filtrado](https://towardsdatascience.com/feature-selection-using-regularisation-a3678b71e499)."
   ]
  },
  {
   "cell_type": "markdown",
   "metadata": {},
   "source": [
    "## Selección Hacia Atrás\n",
    "\n",
    "Sklearn incorpora una selección hacia atrás llamada *Recursive Feature Elimination*. Utilizando el algoritmo de aprendizaje que queramos (el estimador), en este caso una regresión Lasso, se encarga de ir eliminando variables."
   ]
  },
  {
   "cell_type": "markdown",
   "metadata": {},
   "source": [
    "Primero escogemos el estimador a usar:"
   ]
  },
  {
   "cell_type": "code",
   "execution_count": 120,
   "metadata": {},
   "outputs": [],
   "source": [
    "lasso = LassoCV(cv=2, n_jobs=-1)"
   ]
  },
  {
   "cell_type": "markdown",
   "metadata": {},
   "source": [
    "Luego recurrimos al método *Recursive Feature Elimination* con lasso como estimador para "
   ]
  },
  {
   "cell_type": "code",
   "execution_count": 122,
   "metadata": {},
   "outputs": [],
   "source": [
    "rfecv=RFECV(estimator=lasso, step=20, min_features_to_select=10, cv=3,\n",
    "              scoring='neg_mean_squared_error', verbose=5)"
   ]
  },
  {
   "cell_type": "markdown",
   "metadata": {},
   "source": [
    "# ADVERTENCIA: LA PRÓXIMA LÍNEA DE CÓDIGO DEMORÓ 8 HORAS EN EJECUTARSE. SE RECOMIENDA DISCRECIÓN DURANTE LA CLASE (NO EJECUTARLA) "
   ]
  },
  {
   "cell_type": "code",
   "execution_count": 123,
   "metadata": {},
   "outputs": [
    {
     "name": "stdout",
     "output_type": "stream",
     "text": [
      "Fitting estimator with 383 features.\n",
      "Fitting estimator with 363 features.\n",
      "Fitting estimator with 343 features.\n",
      "Fitting estimator with 323 features.\n",
      "Fitting estimator with 303 features.\n",
      "Fitting estimator with 283 features.\n",
      "Fitting estimator with 263 features.\n",
      "Fitting estimator with 243 features.\n",
      "Fitting estimator with 223 features.\n",
      "Fitting estimator with 203 features.\n",
      "Fitting estimator with 183 features.\n",
      "Fitting estimator with 163 features.\n",
      "Fitting estimator with 143 features.\n",
      "Fitting estimator with 123 features.\n",
      "Fitting estimator with 103 features.\n",
      "Fitting estimator with 83 features.\n",
      "Fitting estimator with 63 features.\n",
      "Fitting estimator with 43 features.\n",
      "Fitting estimator with 23 features.\n",
      "Fitting estimator with 383 features.\n",
      "Fitting estimator with 363 features.\n",
      "Fitting estimator with 343 features.\n",
      "Fitting estimator with 323 features.\n",
      "Fitting estimator with 303 features.\n",
      "Fitting estimator with 283 features.\n",
      "Fitting estimator with 263 features.\n",
      "Fitting estimator with 243 features.\n",
      "Fitting estimator with 223 features.\n",
      "Fitting estimator with 203 features.\n",
      "Fitting estimator with 183 features.\n",
      "Fitting estimator with 163 features.\n",
      "Fitting estimator with 143 features.\n",
      "Fitting estimator with 123 features.\n",
      "Fitting estimator with 103 features.\n",
      "Fitting estimator with 83 features.\n",
      "Fitting estimator with 63 features.\n",
      "Fitting estimator with 43 features.\n",
      "Fitting estimator with 23 features.\n",
      "Fitting estimator with 383 features.\n",
      "Fitting estimator with 363 features.\n",
      "Fitting estimator with 343 features.\n",
      "Fitting estimator with 323 features.\n",
      "Fitting estimator with 303 features.\n",
      "Fitting estimator with 283 features.\n",
      "Fitting estimator with 263 features.\n",
      "Fitting estimator with 243 features.\n",
      "Fitting estimator with 223 features.\n",
      "Fitting estimator with 203 features.\n",
      "Fitting estimator with 183 features.\n",
      "Fitting estimator with 163 features.\n",
      "Fitting estimator with 143 features.\n",
      "Fitting estimator with 123 features.\n",
      "Fitting estimator with 103 features.\n",
      "Fitting estimator with 83 features.\n",
      "Fitting estimator with 63 features.\n",
      "Fitting estimator with 43 features.\n",
      "Fitting estimator with 23 features.\n",
      "Fitting estimator with 383 features.\n",
      "Fitting estimator with 363 features.\n",
      "Fitting estimator with 343 features.\n",
      "Fitting estimator with 323 features.\n"
     ]
    },
    {
     "data": {
      "text/plain": [
       "RFECV(cv=3,\n",
       "      estimator=LassoCV(alphas=None, copy_X=True, cv=2, eps=0.001,\n",
       "                        fit_intercept=True, max_iter=1000, n_alphas=100,\n",
       "                        n_jobs=-1, normalize=False, positive=False,\n",
       "                        precompute='auto', random_state=None,\n",
       "                        selection='cyclic', tol=0.0001, verbose=False),\n",
       "      min_features_to_select=10, n_jobs=None, scoring='neg_mean_squared_error',\n",
       "      step=20, verbose=5)"
      ]
     },
     "execution_count": 123,
     "metadata": {},
     "output_type": "execute_result"
    }
   ],
   "source": [
    "rfecv.fit(X_train,y_train)"
   ]
  },
  {
   "cell_type": "markdown",
   "metadata": {},
   "source": [
    "Variación del error respecto a número de variables seleccionadas."
   ]
  },
  {
   "cell_type": "code",
   "execution_count": 124,
   "metadata": {},
   "outputs": [
    {
     "data": {
      "text/html": [
       "<div>\n",
       "<style scoped>\n",
       "    .dataframe tbody tr th:only-of-type {\n",
       "        vertical-align: middle;\n",
       "    }\n",
       "\n",
       "    .dataframe tbody tr th {\n",
       "        vertical-align: top;\n",
       "    }\n",
       "\n",
       "    .dataframe thead th {\n",
       "        text-align: right;\n",
       "    }\n",
       "</style>\n",
       "<table border=\"1\" class=\"dataframe\">\n",
       "  <thead>\n",
       "    <tr style=\"text-align: right;\">\n",
       "      <th></th>\n",
       "      <th>0</th>\n",
       "    </tr>\n",
       "  </thead>\n",
       "  <tbody>\n",
       "    <tr>\n",
       "      <td>0</td>\n",
       "      <td>-1076.014398</td>\n",
       "    </tr>\n",
       "    <tr>\n",
       "      <td>1</td>\n",
       "      <td>-1059.374640</td>\n",
       "    </tr>\n",
       "    <tr>\n",
       "      <td>2</td>\n",
       "      <td>-1048.275758</td>\n",
       "    </tr>\n",
       "    <tr>\n",
       "      <td>3</td>\n",
       "      <td>-1041.978946</td>\n",
       "    </tr>\n",
       "    <tr>\n",
       "      <td>4</td>\n",
       "      <td>-1040.014290</td>\n",
       "    </tr>\n",
       "    <tr>\n",
       "      <td>5</td>\n",
       "      <td>-1038.742707</td>\n",
       "    </tr>\n",
       "    <tr>\n",
       "      <td>6</td>\n",
       "      <td>-1037.424698</td>\n",
       "    </tr>\n",
       "    <tr>\n",
       "      <td>7</td>\n",
       "      <td>-1036.595661</td>\n",
       "    </tr>\n",
       "    <tr>\n",
       "      <td>8</td>\n",
       "      <td>-1036.076653</td>\n",
       "    </tr>\n",
       "    <tr>\n",
       "      <td>9</td>\n",
       "      <td>-1035.286887</td>\n",
       "    </tr>\n",
       "    <tr>\n",
       "      <td>10</td>\n",
       "      <td>-1034.554135</td>\n",
       "    </tr>\n",
       "    <tr>\n",
       "      <td>11</td>\n",
       "      <td>-1034.314120</td>\n",
       "    </tr>\n",
       "    <tr>\n",
       "      <td>12</td>\n",
       "      <td>-1033.978372</td>\n",
       "    </tr>\n",
       "    <tr>\n",
       "      <td>13</td>\n",
       "      <td>-1033.718035</td>\n",
       "    </tr>\n",
       "    <tr>\n",
       "      <td>14</td>\n",
       "      <td>-1033.603790</td>\n",
       "    </tr>\n",
       "    <tr>\n",
       "      <td>15</td>\n",
       "      <td>-1033.534395</td>\n",
       "    </tr>\n",
       "    <tr>\n",
       "      <td>16</td>\n",
       "      <td>-1033.540015</td>\n",
       "    </tr>\n",
       "    <tr>\n",
       "      <td>17</td>\n",
       "      <td>-1033.553317</td>\n",
       "    </tr>\n",
       "    <tr>\n",
       "      <td>18</td>\n",
       "      <td>-1033.587296</td>\n",
       "    </tr>\n",
       "    <tr>\n",
       "      <td>19</td>\n",
       "      <td>-1033.614916</td>\n",
       "    </tr>\n",
       "  </tbody>\n",
       "</table>\n",
       "</div>"
      ],
      "text/plain": [
       "              0\n",
       "0  -1076.014398\n",
       "1  -1059.374640\n",
       "2  -1048.275758\n",
       "3  -1041.978946\n",
       "4  -1040.014290\n",
       "5  -1038.742707\n",
       "6  -1037.424698\n",
       "7  -1036.595661\n",
       "8  -1036.076653\n",
       "9  -1035.286887\n",
       "10 -1034.554135\n",
       "11 -1034.314120\n",
       "12 -1033.978372\n",
       "13 -1033.718035\n",
       "14 -1033.603790\n",
       "15 -1033.534395\n",
       "16 -1033.540015\n",
       "17 -1033.553317\n",
       "18 -1033.587296\n",
       "19 -1033.614916"
      ]
     },
     "execution_count": 124,
     "metadata": {},
     "output_type": "execute_result"
    }
   ],
   "source": [
    "pd.Series(rfecv.grid_scores_)"
   ]
  },
  {
   "cell_type": "code",
   "execution_count": 125,
   "metadata": {},
   "outputs": [
    {
     "data": {
      "image/png": "[encoded data removed]",
      "text/plain": [
       "<Figure size 432x288 with 1 Axes>"
      ]
     },
     "metadata": {
      "needs_background": "light"
     },
     "output_type": "display_data"
    }
   ],
   "source": [
    "plt.figure()\n",
    "plt.xlabel(\"Número de variables seleccionadas\")\n",
    "plt.ylabel(\"MSE\")\n",
    "plt.plot(range(1, len(rfecv.grid_scores_) + 1), rfecv.grid_scores_)\n",
    "plt.show()"
   ]
  },
  {
   "cell_type": "markdown",
   "metadata": {},
   "source": [
    "El algoritmo de optimización considera el MSE negativo para resolver un problema de maximización en lugar de minimizacion.\n",
    "\n",
    "## LAS 20 PRINCIPALES"
   ]
  },
  {
   "cell_type": "code",
   "execution_count": 140,
   "metadata": {},
   "outputs": [
    {
     "data": {
      "text/plain": [
       "destination_airport_resumen_SYR      5\n",
       "origin_airport_resumen_DAY           5\n",
       "destination_airport_resumen_CAE      5\n",
       "destination_airport_resumen_BUR      5\n",
       "origin_airport_resumen_CHS           5\n",
       "origin_airport_resumen_DSM           5\n",
       "destination_airport_resumen_LGB      5\n",
       "origin_airport_resumen_FAR           5\n",
       "destination_airport_resumen_PVD      5\n",
       "destination_airport_resumen_11278    5\n",
       "destination_airport_resumen_SAV      5\n",
       "destination_airport_resumen_CID      5\n",
       "destination_airport_resumen_RIC      5\n",
       "destination_airport_resumen_TUS      5\n",
       "origin_airport_resumen_GSO           5\n",
       "destination_airport_resumen_SGF      5\n",
       "origin_airport_resumen_GSP           5\n",
       "destination_airport_resumen_SHV      5\n",
       "destination_airport_resumen_STL      5\n",
       "origin_airport_resumen_CVG           5\n",
       "dtype: int32"
      ]
     },
     "execution_count": 140,
     "metadata": {},
     "output_type": "execute_result"
    }
   ],
   "source": [
    "pd.Series(rfecv.ranking_, index=X_train.columns).sort_values().tail(20).index"
   ]
  },
  {
   "cell_type": "markdown",
   "metadata": {},
   "source": [
    "Al final  nos quedemos con el top 20 de variables posterior a la limpieza y penalización de las mismas."
   ]
  }
 ],
 "metadata": {
  "kernelspec": {
   "display_name": "Python 3",
   "language": "python",
   "name": "python3"
  },
  "language_info": {
   "codemirror_mode": {
    "name": "ipython",
    "version": 3
   },
   "file_extension": ".py",
   "mimetype": "text/x-python",
   "name": "python",
   "nbconvert_exporter": "python",
   "pygments_lexer": "ipython3",
   "version": "3.8.3"
  }
 },
 "nbformat": 4,
 "nbformat_minor": 4
}
