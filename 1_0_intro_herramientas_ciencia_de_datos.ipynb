{
 "cells": [
  {
   "cell_type": "markdown",
   "metadata": {},
   "source": [
    "# Introducción a las Herramientas de Ciencia de Datos\n",
    "\n",
    "Las herramientas necesarias a partir de este notebook son:\n",
    "- Anaconda Python 3.8\n",
    "- Jupyter\n",
    "- Git\n",
    "- Slack\n",
    "- nodejs para habilitar extensiones\n"
   ]
  },
  {
   "cell_type": "markdown",
   "metadata": {},
   "source": [
    "## Instalación de Anaconda\n",
    "\n",
    "Dado que Jupyter es un Ambiente de Desarrollo Integrado (IDE por sus siglas en inglés) es necesario tener los lenguajes de programación antes de poder utilizar el Notebook interactivo. En él, se documenta todo el desarrollo del proyecto."
   ]
  },
  {
   "cell_type": "markdown",
   "metadata": {},
   "source": [
    "1. Descargar e instalar __Anaconda__. Según tu computadora, puedes instalar la version de 32-bits o de 64-bits, acorde con la versión de Python instalada previamente. [Descarga Anaconda Aquí](https://www.anaconda.com/download/).\n",
    "\n",
    "_Si no sabes cómo revisar de cuántos bits es tu computadora abre este [link](https://support.hp.com/ar-es/document/c02026273)_.\n",
    "\n",
    "\n",
    "\n",
    "Una vez descargado Anaconda NO OLVIDES __TACHAR EN AGREGAR AL PATH__\n",
    "\n",
    "<img src=\"Imagenes/anaconda.JPG\">\n",
    "\n",
    "1. 1. __MAC__, solo es necesario descargar el ejecutable de [Anaconda](https://www.anaconda.com/download/) e instalar todo por default.\n",
    "\n",
    "1. 2. __Linux__, descarga el ejecutable de [Anaconda](https://www.anaconda.com/download/) para linux, abre una terminal y ve a donde hicieron las descargas con el comando cd (comunmente es en: /home/USER/Downloads/), cambian los permisos del ejecutable con: ```chmod +x Anaconda3_X.X.X``` y por último ejecutan el comando: ```./Anaconda3_X.X.X.sh``` o `bash Anaconda3_X.X.X.sh`"
   ]
  },
  {
   "cell_type": "markdown",
   "metadata": {},
   "source": [
    "### Sí, sí...mucha instalación y todo pero, ¿por qué Python y Anaconda?\n",
    "\n",
    "__Python__ ha venido agarrando popularidad en el area de ciencia de datos y manejo de datos científicos, por su facilidad para aprender y sintaxis.\n",
    "\n",
    "__Anaconda__ es una distribución de bibliotecas enfocadas a ciencia de datos y machine learning.\n",
    "\n",
    "__Python__ nos permite programar y aprender relativamente rápido mientras que __Anaconda__ nos instala todas las bibliotecas necesarias  para la realización de proyectos."
   ]
  },
  {
   "cell_type": "markdown",
   "metadata": {},
   "source": [
    "+ Una vez instalado, abrimos un cmd (símbolo de sistemas) y tecleamos el siguiente codigo:"
   ]
  },
  {
   "cell_type": "raw",
   "metadata": {},
   "source": [
    "jupyter-lab"
   ]
  },
  {
   "cell_type": "markdown",
   "metadata": {},
   "source": [
    "<img src= \"Imagenes\\jupyter-lab.jpg\" width = 600>"
   ]
  },
  {
   "cell_type": "markdown",
   "metadata": {},
   "source": [
    "En nuestra computadora se abrirá en automatico una pestaña de nuestro explorador preferido y deberá mostrarnos algo como esto:\n",
    "\n",
    "<img src= \"Imagenes\\jupyter-lab2.jpg\" width = 700>"
   ]
  },
  {
   "cell_type": "markdown",
   "metadata": {},
   "source": [
    "¡C'est fini!\n",
    "\n",
    "Has terminado la instalación y estás listo para empezar el curso.\n",
    "\n",
    "🥳🥳🥳🥳🥳🥳🥳🥳🥳\n",
    "\n",
    "👏🏼👏🏼👏🏼👏🏼👏🏼👏🏼👏🏼\n",
    "\n",
    "👨💻 👩💻 "
   ]
  },
  {
   "cell_type": "markdown",
   "metadata": {},
   "source": [
    "## Anaconda Entornos Virtuales\n",
    "\n",
    "Anaconda tiene más de 1,500 bibliotecas enfocadas en ciencia de datos y *Machine Learning*.\n",
    "\n",
    "Entre esas bibliotecas se encuentra Conda, la cual es una paquete *open-source* que funge como un manejador de sistemas y ambientes virtuales que corre en \"cualquier\" sistema operativo.\n",
    "\n",
    "__Un entorno virtual__ es un espacio independiente a tu instalación local, con el objetivo de aislar los recursos y bibliotecas.\n",
    "\n",
    "Los entornos virtuales nos permite aislar los paquetes que usamos para un proyecto en específico y así evitar problemas como, por ejemplo, los *bugs* entre las versiones de Python 2 y 3. \n",
    "\n",
    "También podemos exportar una lista de paquetes en un archivo con todas las dependencias de nuestro proyecto como se indica a continuación:\n",
    "\n",
    "* Abrimos una terminal de Anaconda Prompt y navegamos a donde tenemos nuestro archivo requeriments.txt\n",
    "\n",
    "`conda install --file requirements.txt`\n",
    "\n",
    "Un requiriments.txt es un archivo de texto con los paquetes y su versión, comunmente se guardan para generar las versiones de producción. Si estamos seguros que el script ya funciona en desarrollo, guardamos las bibliotecas y su versión con el siguinte comando desde anaconda o bash:\n",
    "\n",
    "`pip freeze >> requirements.txt`"
   ]
  },
  {
   "cell_type": "markdown",
   "metadata": {},
   "source": [
    "### Comandos Básicos de Anaconda\n",
    "    \n",
    "Crear un ambiente virtual:\n",
    "`conda create --name nombre_chido_de_ambiente`\n",
    "\n",
    "Moverse de un ambiente a otro:\n",
    "`conda activate nombre_chido_de_ambiente`\n",
    "\n",
    "Enlistar ambientes virtuales:\n",
    "`conda info --envs`\n",
    "`conda env list`\n",
    "\n",
    "Borrar ambiente virtual:\n",
    "`conda remove --name nombre_chido_de_ambiente --all`\n",
    "\n",
    "Iniciar conda en terminal:\n",
    "`conda init`\n",
    "\n",
    "Instalar paquetería específica con Anaconda:\n",
    "`conda install -n nombre_chido_de_ambiente paqueteria_que_quiero`\n",
    "\n",
    "Para las bibliotecas que no están en conda se usa conda-forge:\n",
    "`conda install -c conda-forge biblioteca_que_no_hay`\n",
    "    "
   ]
  },
  {
   "cell_type": "markdown",
   "metadata": {},
   "source": [
    "## Jupyter... ¿Y Por Qué?\n",
    "\n",
    "Es una aplicación web que te permite crear y compartir documentos con código fuente, ecuaciones en LaTeX, visualizaciones y texto regular.\n",
    "\n",
    "El sistema Jupyter da soporte a más de 100 lenguajes de programación (llamados kernel en el ecosistema dentro de la aplicación) incluyendo **Python**, Java, R, Julia, MATLAB, Octave, Scheme, C#, Scala y muchos más.\n",
    "\n",
    "Jupyter se ha puesto de moda en las áreas de negocio y ciencia dada su versatilidad para compartir código y/o metodologías.\n",
    "\n",
    "En el notebook puedes escribir diversos formatos como\n",
    "\n",
    "__Código:__\n",
    "\n",
    "~~~ \n",
    "import pandas as pd\n",
    "pd.read_csv('docu.csv')\n",
    "~~~\n",
    "\n",
    "__Imágenes:__\n",
    "\n",
    "<img src=\"Imagenes/pqo.png\">\n",
    "\n",
    "__Ecuaciones:__\n",
    "\n",
    "$ x_1 = 10x_2 + f(y) -  \\frac{d^2 u}{dx^2} \\times \\int_{x_1}^{x_2} x^3 $\n",
    "\n",
    "__Emoticones:__\n",
    "\n",
    "🦄🦄🦄\n",
    "\n",
    "Para más tips de guapura de markdowns apriétale [acá](https://markdown.es/sintaxis-markdown/)."
   ]
  },
  {
   "cell_type": "code",
   "execution_count": 1,
   "metadata": {
    "ExecuteTime": {
     "end_time": "2018-01-13T14:21:32.583000Z",
     "start_time": "2018-01-13T14:21:29.670000Z"
    }
   },
   "outputs": [],
   "source": [
    "import numpy as np\n",
    "import matplotlib.pyplot as plt"
   ]
  },
  {
   "cell_type": "markdown",
   "metadata": {
    "ExecuteTime": {
     "end_time": "2018-01-13T15:09:39.690000Z",
     "start_time": "2018-01-13T15:09:39.540000Z"
    }
   },
   "source": [
    "Tu primera gráfica 😮:"
   ]
  },
  {
   "cell_type": "code",
   "execution_count": 2,
   "metadata": {
    "ExecuteTime": {
     "end_time": "2018-01-13T15:09:39.690000Z",
     "start_time": "2018-01-13T15:09:39.540000Z"
    }
   },
   "outputs": [
    {
     "data": {
      "image/png": "[encoded data removed]",
      "text/plain": [
       "<Figure size 432x288 with 1 Axes>"
      ]
     },
     "metadata": {
      "needs_background": "light"
     },
     "output_type": "display_data"
    }
   ],
   "source": [
    "plt.plot(np.arange(50),np.random.rand(50));"
   ]
  },
  {
   "cell_type": "code",
   "execution_count": 3,
   "metadata": {},
   "outputs": [
    {
     "data": {
      "image/png": "[encoded data removed]",
      "text/plain": [
       "<Figure size 432x288 with 1 Axes>"
      ]
     },
     "metadata": {
      "needs_background": "light"
     },
     "output_type": "display_data"
    }
   ],
   "source": [
    "x = np.arange(0, 50,0.1)\n",
    "plt.plot(x,np.sin(x));"
   ]
  },
  {
   "cell_type": "markdown",
   "metadata": {},
   "source": [
    "## Git y Github\n",
    "\n",
    "Git es un software de control de versiones.\n",
    "\n",
    "__Qué es un controlador de versiones__\n",
    "\n",
    "Te permite controlar las versiones del software a la hora de programar, ya sea como hacker solitario o en equipo. 😃\n",
    "\n",
    "Para evitar el famoso código bueno_version_final_ahora_si_finalisimo.py, obteniendo un registro de los cambios en el código."
   ]
  },
  {
   "cell_type": "markdown",
   "metadata": {},
   "source": [
    "__Qué es GitHub, GitLab y demás__\n",
    "\n",
    "Comandos básicos de git:\n",
    "\n",
    "Para clonar un repositorio abre una terminal de git bash:\n",
    "\n",
    "`git clone url_del_repo_chido`\n",
    "\n",
    "Si quieres actualizar la info del repo ya clonado (navegar dentro de la carpeta del repositorio):\n",
    "\n",
    "`git pull`"
   ]
  },
  {
   "cell_type": "markdown",
   "metadata": {},
   "source": [
    "Dentro de GutHub hay tres fases fundamentales.\n",
    "\n",
    "Tu repositorio local esta compuesto por tres \"árboles\" administrados por git. El primero es tu __Directorio de trabajo__ que contiene los archivos; el segundo es el __Index__, que actua como una zona intermedia, y el último es el __HEAD__ que apunta al último commit realizado.\n",
    "\n",
    "<img src=\"Imagenes/git1.JPG\">"
   ]
  },
  {
   "cell_type": "markdown",
   "metadata": {},
   "source": [
    "Para registrar cambios en un archivo dentro del repositorio primero hay que añadirlos al __INDEX__ utilizando:\n",
    "\n",
    "`git add <filename>`\n",
    "\n",
    "Si se desean agregar todos los cambios hechos a todos los documentos dentro del repositorio (WARNING si son varios users) utilizamos:\n",
    "\n",
    "`git add .`\n",
    "    \n",
    "Adicionalmente a agregar los cambios debemos comentarlos por medio de un *commit*:    \n",
    "\n",
    "`git commit -m \"mensaje de qué se desarrollo o que sé cambio y por qué\" `\n",
    "    \n",
    "Ejemplo: \n",
    "\n",
    "`git commit -m \"Se agrega un árbol de decisión al proyecto\" `\n",
    "    \n",
    "\n",
    "A estas alturas, el archivo está incluido en el directorio __HEAD__, pero el repositorio remoto aún no se actualiza. Para enviar los cambios locales al repositorio remoto ejecutamos un *push*:\n",
    "\n",
    "`git push origin master`.\n",
    "\n",
    "La rama *master* la puedes reemplazar por la rama que quieres modificar, según sea el caso.\n",
    "\n",
    "Por defecto el comando:\n",
    "\n",
    "`git push`\n",
    "\n",
    "Actualiza la rama en la que te encuentres.\n",
    "\n",
    "Las ramas se usan para generar un desarrollo aparte del proyecto principal. Se comienza con una rama maestra y, si se crea una rama secundaria, podemos generar un desarrollo en paralelo a la rama maestra y posteriormente decidir si queremos fusionarlas o no.\n",
    "\n",
    "<img src = \"Imagenes\\instalacion1.jpg\" width = 400>"
   ]
  },
  {
   "cell_type": "markdown",
   "metadata": {},
   "source": [
    "Para crear una nueva rama y cambiarte a ella\n",
    "    `git checkout -b nombre_de_la_rama`\n",
    "    \n",
    "para volver a la rama principal\n",
    "    `git checkout master`\n",
    "    \n",
    "Para borrar la rama\n",
    "    `git branch -d nombre_de_la_rama`\n",
    "    \n",
    "OJO la nueva rama no estará disponible hasta que hagas un push!!!"
   ]
  },
  {
   "cell_type": "markdown",
   "metadata": {},
   "source": [
    "## Primeros Pasos\n",
    "\n",
    "* Para empezar, crea una cuenta en [GITHUB](http://www.github.com) e instala Git en tu ordenador siguiendo el siguiente enlace para descargar en [windows o en MAC](https://git-scm.com/downloads)\n",
    "    \n",
    "En el caso de que tu equipo sea __Linux__, abre una terminal y teclea el sigiente comando: ```sudo apt-get install git```.\n",
    "\n",
    "* Una vez instalado, abre una consola de Git (Git CMD) y ejecuta el siguiente código:"
   ]
  },
  {
   "cell_type": "raw",
   "metadata": {},
   "source": [
    "git clone https://github.com/serch86/DS_2_2021-1"
   ]
  },
  {
   "cell_type": "markdown",
   "metadata": {},
   "source": [
    "Esto generará una carpeta nueva, normalmente se clona en el siguiente directorio:\n",
    "\n",
    "*'C://Users/usuario/DS_2_2021-1'*\n",
    "\n",
    "En dicha carpeta encontrarás el material del curso."
   ]
  },
  {
   "cell_type": "markdown",
   "metadata": {},
   "source": [
    "Para mayor información pueden consultar los siguiente links:\n",
    "\n",
    "* [Tutorial_GIT](http://rogerdudler.github.io/git-guide/index.es.html)\n",
    "* [Libro_GIT](https://git-scm.com/book/es/v2)\n",
    "* [Comando_Basicos](http://dont-be-afraid-to-commit.readthedocs.io/en/latest/git/commandlinegit.html)"
   ]
  },
  {
   "cell_type": "markdown",
   "metadata": {},
   "source": [
    "Para obtener posibles actualizaciones del repositorio original del curso, acceder desde Git a la carpeta del curso en su directorio local y ejecutar:"
   ]
  },
  {
   "cell_type": "raw",
   "metadata": {},
   "source": [
    "git pull"
   ]
  },
  {
   "cell_type": "markdown",
   "metadata": {},
   "source": [
    "## SLACK\n",
    "\n",
    "Es un servicio mensajería instantánea con diversas herramientas integradas (Dropbox,Google Drive, etc.) enfocado a las empresas, pero que se puede utilizar para fines diversos.\n",
    "\n",
    "Para mantener la comunicación en el grupo les pediré que descarguen SLACK:\n",
    "[DESCARGAR](https://slack.com/intl/es/downloads/) y que se inscriban al grupo:\n",
    "\n",
    "__dsciencias-2-2021-1.slack.com__\n",
    "\n",
    "Una vez que tengan la herramienta integrada a su celular y/o computadora, entran al grupo, le dan en canales y se unen. Ahí encontrarán material de apoyo para los diversos temas que veremos aquí.\n",
    "\n",
    "Para más información pueden revisar el siguiente link:\n",
    "[SLACK](http://www.naiarafernandez.com/tutorial-slack-que-es-para-que-sirve-y-como-funciona/)"
   ]
  },
  {
   "cell_type": "markdown",
   "metadata": {},
   "source": [
    "## Extensiones cool en jupyter-lab\n",
    "\n",
    "Las extensiones es software de terceros adaptado a jupyter para agregar funcionalidades. Como graficos interactivos, formateo de codigo entre muchas otras cosas mas.\n",
    "\n",
    "Durante el curso utilizaremos algunos graficos interactivos por lo que se les recomienda habilitar las extensiones e instalarlas.\n",
    "\n",
    "*Revisar la instalación plotly para tener habilitadas las extensiones.*\n",
    "\n",
    "    plotly\n",
    "    chart-editor\n",
    "    code_formatter\n",
    "    entre otras...\n",
    "    "
   ]
  }
 ],
 "metadata": {
  "kernelspec": {
   "display_name": "Python 3",
   "language": "python",
   "name": "python3"
  },
  "language_info": {
   "codemirror_mode": {
    "name": "ipython",
    "version": 3
   },
   "file_extension": ".py",
   "mimetype": "text/x-python",
   "name": "python",
   "nbconvert_exporter": "python",
   "pygments_lexer": "ipython3",
   "version": "3.7.4"
  }
 },
 "nbformat": 4,
 "nbformat_minor": 4
}
